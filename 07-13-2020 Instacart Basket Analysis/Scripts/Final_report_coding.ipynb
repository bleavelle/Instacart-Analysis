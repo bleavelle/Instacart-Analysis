{
 "cells": [
  {
   "cell_type": "code",
   "execution_count": 1,
   "id": "0dce473a",
   "metadata": {},
   "outputs": [],
   "source": [
    "import pandas as pd\n",
    "import numpy as np\n",
    "import os\n",
    "import matplotlib.pyplot as plt\n",
    "import seaborn as sns\n",
    "import scipy\n",
    "sns.set_theme(style=\"whitegrid\")\n"
   ]
  },
  {
   "cell_type": "code",
   "execution_count": 78,
   "id": "5e2e7723",
   "metadata": {},
   "outputs": [],
   "source": [
    "path = r'/Users/bryanleavelle/Bootcamp/Immersion/ch 4/DD-MM-2020 Instacart Basket Analysis'\n",
    "df = pd.read_pickle(os.path.join(path,'Data', 'Prepared Data', \"big_and_beautiful.pkl\"))"
   ]
  },
  {
   "cell_type": "code",
   "execution_count": 79,
   "id": "e0c1e728",
   "metadata": {},
   "outputs": [
    {
     "data": {
      "text/plain": [
       "(32404859, 32)"
      ]
     },
     "execution_count": 79,
     "metadata": {},
     "output_type": "execute_result"
    }
   ],
   "source": [
    "df.shape"
   ]
  },
  {
   "cell_type": "markdown",
   "id": "f2966d40",
   "metadata": {},
   "source": [
    "# STEP ONE: PII ISSUES"
   ]
  },
  {
   "cell_type": "code",
   "execution_count": 3,
   "id": "8ae0609b",
   "metadata": {},
   "outputs": [
    {
     "name": "stdout",
     "output_type": "stream",
     "text": [
      "order_id\n",
      "user_id\n",
      "order_number\n",
      "order_day_of_week\n",
      "hour_of_order\n",
      "days_since_prior_order\n",
      "product_id\n",
      "add_to_cart_order\n",
      "reordered\n",
      "product_name\n",
      "aisle_id\n",
      "department_id\n",
      "prices\n",
      "price_range_loc\n",
      "busiest_days\n",
      "busiest_period_of_day\n",
      "max_order\n",
      "loyalty_flag\n",
      "avg_order\n",
      "spender_category\n",
      "spender_flag_loc\n",
      "customer_order_frequency\n",
      "first_name\n",
      "last_name\n",
      "gender\n",
      "state\n",
      "age\n",
      "date_joined\n",
      "n_dependants\n",
      "fam_status\n",
      "income\n",
      "_merge\n"
     ]
    }
   ],
   "source": [
    "# checking data for PII issues\n",
    "\n",
    "for col in df:\n",
    "    print(col)"
   ]
  },
  {
   "cell_type": "markdown",
   "id": "18904600",
   "metadata": {},
   "source": [
    "###        First and last names are present. This could be an issue. Lets remove them."
   ]
  },
  {
   "cell_type": "code",
   "execution_count": 4,
   "id": "adbdbb22",
   "metadata": {},
   "outputs": [],
   "source": [
    "#drop first and last names and save to new df \"df2\"\n",
    "\n",
    "df2 = df.drop(columns = ['first_name', 'last_name'])"
   ]
  },
  {
   "cell_type": "code",
   "execution_count": 5,
   "id": "fbe1932c",
   "metadata": {},
   "outputs": [
    {
     "name": "stdout",
     "output_type": "stream",
     "text": [
      "order_id\n",
      "user_id\n",
      "order_number\n",
      "order_day_of_week\n",
      "hour_of_order\n",
      "days_since_prior_order\n",
      "product_id\n",
      "add_to_cart_order\n",
      "reordered\n",
      "product_name\n",
      "aisle_id\n",
      "department_id\n",
      "prices\n",
      "price_range_loc\n",
      "busiest_days\n",
      "busiest_period_of_day\n",
      "max_order\n",
      "loyalty_flag\n",
      "avg_order\n",
      "spender_category\n",
      "spender_flag_loc\n",
      "customer_order_frequency\n",
      "gender\n",
      "state\n",
      "age\n",
      "date_joined\n",
      "n_dependants\n",
      "fam_status\n",
      "income\n",
      "_merge\n"
     ]
    }
   ],
   "source": [
    "#check result\n",
    "\n",
    "for col in df2:\n",
    "    print(col)"
   ]
  },
  {
   "cell_type": "markdown",
   "id": "44eba0df",
   "metadata": {},
   "source": [
    "###                They are gone. Great!"
   ]
  },
  {
   "cell_type": "markdown",
   "id": "b657fbbf",
   "metadata": {},
   "source": [
    "# STEP TWO: ADDING REGIONS BASED ON STATE"
   ]
  },
  {
   "cell_type": "code",
   "execution_count": 6,
   "id": "d7ae0799",
   "metadata": {},
   "outputs": [],
   "source": [
    "#Code for assigning Northeast Region\n",
    "\n",
    "df2.loc[(df2['state'] == 'Maine') | (df2['state'] == 'New Hampshire') | (df2['state'] == 'Vermont') |\n",
    "       (df2['state'] == 'Massachusetts') | (df2['state'] == 'Rhode Island') |\n",
    "        (df2['state'] == 'Connecticut') | (df2['state'] == 'New York') | \n",
    "        (df2['state'] == 'Pennsylvania') | (df2['state'] == 'New Jersey'), 'region'] = 'Northeast'"
   ]
  },
  {
   "cell_type": "code",
   "execution_count": 7,
   "id": "8dc79934",
   "metadata": {},
   "outputs": [],
   "source": [
    "#Code for assigning Midwest region\n",
    "\n",
    "df2.loc[(df2['state'] == 'Wisconsin') | (df2['state'] == 'Michigan') | (df2['state'] == 'Illinois') |\n",
    "       (df2['state'] == 'Indiana') | (df2['state'] == 'Ohio') |\n",
    "        (df2['state'] == 'North Dakota') | (df2['state'] == 'South Dakota') | \n",
    "        (df2['state'] == 'Nebraska') | (df2['state'] == 'Kansas') | (df2['state'] == 'Minnesota') | \n",
    "        (df2['state'] == 'Iowa') | (df2['state'] == 'Missouri'), 'region'] = 'Midwest'"
   ]
  },
  {
   "cell_type": "code",
   "execution_count": 8,
   "id": "59741ce1",
   "metadata": {},
   "outputs": [],
   "source": [
    "#Code for assigning South region\n",
    "\n",
    "df2.loc[(df2['state'] == 'Delaware') | (df2['state'] == 'Maryland') | (df2['state'] == 'District of Columbia') |\n",
    "       (df2['state'] == 'Virginia') | (df2['state'] == 'West Virginia') |\n",
    "        (df2['state'] == 'North Carolina') | (df2['state'] == 'South Carolina') | \n",
    "        (df2['state'] == 'Georgia') | (df2['state'] == 'Florida') | (df2['state'] == 'Kentucky') | \n",
    "        (df2['state'] == 'Tennessee') | (df2['state'] == 'Mississippi') | (df2['state'] == 'Alabama') | \n",
    "         (df2['state'] == 'Oklahoma') | (df2['state'] == 'Texas') | (df2['state'] == 'Arkansas') |\n",
    "        (df2['state'] == 'Louisiana'), 'region'] = 'South'"
   ]
  },
  {
   "cell_type": "code",
   "execution_count": 9,
   "id": "36ad0541",
   "metadata": {},
   "outputs": [],
   "source": [
    "# Code for assigning West region\n",
    "\n",
    "df2.loc[(df2['state'] == 'Idaho') | (df2['state'] == 'Montana') | (df2['state'] == 'Wyoming') |\n",
    "       (df2['state'] == 'Nevada') | (df2['state'] == 'Utah') |\n",
    "        (df2['state'] == 'Colorado') | (df2['state'] == 'Arizona') | \n",
    "        (df2['state'] == 'New Mexico') | (df2['state'] == 'Alaska') | (df2['state'] == 'Washington') | \n",
    "        (df2['state'] == 'Oregon') | (df2['state'] == 'California') | (df2['state'] == 'Hawaii'), \n",
    "        'region'] = 'West'"
   ]
  },
  {
   "cell_type": "code",
   "execution_count": 10,
   "id": "63818920",
   "metadata": {},
   "outputs": [
    {
     "data": {
      "text/plain": [
       "South        10791885\n",
       "West          8292913\n",
       "Midwest       7597325\n",
       "Northeast     5722736\n",
       "Name: region, dtype: int64"
      ]
     },
     "execution_count": 10,
     "metadata": {},
     "output_type": "execute_result"
    }
   ],
   "source": [
    "#value_counts to check for any nan\n",
    "\n",
    "df2['region'].value_counts(dropna=False)"
   ]
  },
  {
   "cell_type": "markdown",
   "id": "5ea365ad",
   "metadata": {},
   "source": [
    "### looks good! Now to see if there any spending differences between these regions:"
   ]
  },
  {
   "cell_type": "code",
   "execution_count": 11,
   "id": "9592d844",
   "metadata": {},
   "outputs": [],
   "source": [
    "crosstab = pd.crosstab(df2['region'], df2['spender_flag_loc'], dropna = False)"
   ]
  },
  {
   "cell_type": "code",
   "execution_count": 12,
   "id": "77ec447e",
   "metadata": {},
   "outputs": [
    {
     "data": {
      "text/html": [
       "<div>\n",
       "<style scoped>\n",
       "    .dataframe tbody tr th:only-of-type {\n",
       "        vertical-align: middle;\n",
       "    }\n",
       "\n",
       "    .dataframe tbody tr th {\n",
       "        vertical-align: top;\n",
       "    }\n",
       "\n",
       "    .dataframe thead th {\n",
       "        text-align: right;\n",
       "    }\n",
       "</style>\n",
       "<table border=\"1\" class=\"dataframe\">\n",
       "  <thead>\n",
       "    <tr style=\"text-align: right;\">\n",
       "      <th>spender_flag_loc</th>\n",
       "      <th>High spender</th>\n",
       "      <th>Low spender</th>\n",
       "    </tr>\n",
       "    <tr>\n",
       "      <th>region</th>\n",
       "      <th></th>\n",
       "      <th></th>\n",
       "    </tr>\n",
       "  </thead>\n",
       "  <tbody>\n",
       "    <tr>\n",
       "      <th>Midwest</th>\n",
       "      <td>155975</td>\n",
       "      <td>7441350</td>\n",
       "    </tr>\n",
       "    <tr>\n",
       "      <th>Northeast</th>\n",
       "      <td>108225</td>\n",
       "      <td>5614511</td>\n",
       "    </tr>\n",
       "    <tr>\n",
       "      <th>South</th>\n",
       "      <td>209691</td>\n",
       "      <td>10582194</td>\n",
       "    </tr>\n",
       "    <tr>\n",
       "      <th>West</th>\n",
       "      <td>160354</td>\n",
       "      <td>8132559</td>\n",
       "    </tr>\n",
       "  </tbody>\n",
       "</table>\n",
       "</div>"
      ],
      "text/plain": [
       "spender_flag_loc  High spender  Low spender\n",
       "region                                     \n",
       "Midwest                 155975      7441350\n",
       "Northeast               108225      5614511\n",
       "South                   209691     10582194\n",
       "West                    160354      8132559"
      ]
     },
     "execution_count": 12,
     "metadata": {},
     "output_type": "execute_result"
    }
   ],
   "source": [
    "crosstab"
   ]
  },
  {
   "cell_type": "markdown",
   "id": "d86f37cf",
   "metadata": {},
   "source": [
    "### South has both the highest number of high spenders and the highest number of low spenders. \n",
    "### Northeast has the least number of both categories."
   ]
  },
  {
   "cell_type": "markdown",
   "id": "5e8b398f",
   "metadata": {},
   "source": [
    "# STEP THREE: EXLUDE LOW FREQUENCY BUYERS FOR CFO"
   ]
  },
  {
   "cell_type": "markdown",
   "id": "3b9e7fb8",
   "metadata": {},
   "source": [
    "### we already have a max_order column, and we can use this to filter the data set to include only the rows with a max_order of > 5"
   ]
  },
  {
   "cell_type": "code",
   "execution_count": 13,
   "id": "8e33b802",
   "metadata": {},
   "outputs": [],
   "source": [
    "#filter df to only have max_orders > 5 and save as \"newdf\"\n",
    "\n",
    "newdf = df2[(df2.max_order > 5)]"
   ]
  },
  {
   "cell_type": "code",
   "execution_count": 14,
   "id": "9ed5125e",
   "metadata": {},
   "outputs": [
    {
     "data": {
      "text/plain": [
       "6      811396\n",
       "7      803979\n",
       "8      811843\n",
       "9      810213\n",
       "10     773124\n",
       "       ...   \n",
       "95      59877\n",
       "96      40453\n",
       "97      44949\n",
       "98      44587\n",
       "99    1171333\n",
       "Name: max_order, Length: 94, dtype: int64"
      ]
     },
     "execution_count": 14,
     "metadata": {},
     "output_type": "execute_result"
    }
   ],
   "source": [
    "#check work: value_counts sorted by index to ensure there arent values 5 and under.\n",
    "\n",
    "newdf['max_order'].value_counts().sort_index()"
   ]
  },
  {
   "cell_type": "markdown",
   "id": "5110d439",
   "metadata": {},
   "source": [
    "### Perfect. Now export data set for CFO:"
   ]
  },
  {
   "cell_type": "code",
   "execution_count": null,
   "id": "f4549378",
   "metadata": {},
   "outputs": [],
   "source": [
    "newdf.to_csv(os.path.join(path, 'Data', 'Prepared Data','CFO_data.csv' ))"
   ]
  },
  {
   "cell_type": "markdown",
   "id": "16d6d0be",
   "metadata": {},
   "source": [
    "# STEP FOUR: BUYER PROFILES\n",
    "\n",
    "### using  categories  \"Single Adult Non-Parent\", \"Single Adult Parent\", \"Married Adult Non-Parent\" and \"Married Adult Parent\", where an adult is defined as anyone over the age of 25.\""
   ]
  },
  {
   "cell_type": "code",
   "execution_count": null,
   "id": "04eb5fc9",
   "metadata": {},
   "outputs": [],
   "source": []
  },
  {
   "cell_type": "code",
   "execution_count": 13,
   "id": "cd3ab7cf",
   "metadata": {},
   "outputs": [],
   "source": [
    "# Code for building categories and adding them to new column \"adult_cat\"\n",
    "\n",
    "df2.loc[(df2['age'] >= 25) & (df2['fam_status'] == 'single') & (df2['n_dependants'] == 0), 'adult_cat'] = 'Single Adult Non-Parent'\n",
    "df2.loc[(df2['age'] >= 25) & (df2['fam_status'] == 'single') & (df2['n_dependants'] > 0), 'adult_cat'] = 'Single Adult Parent'\n",
    "df2.loc[(df2['age'] >= 25) & (df2['fam_status'] == 'married') & (df2['n_dependants'] == 0), 'adult_cat'] = 'Married Adult Non-Parent'\n",
    "df2.loc[(df2['age'] >= 25) & (df2['fam_status'] == 'married') & (df2['n_dependants'] > 0), 'adult_cat'] = 'Married Adult Parent'\n",
    "\n"
   ]
  },
  {
   "cell_type": "code",
   "execution_count": 14,
   "id": "a0e1accf",
   "metadata": {},
   "outputs": [
    {
     "data": {
      "text/plain": [
       "Married Adult Parent       21597933\n",
       "Single Adult Non-Parent     4462113\n",
       "Name: adult_cat, dtype: int64"
      ]
     },
     "execution_count": 14,
     "metadata": {},
     "output_type": "execute_result"
    }
   ],
   "source": [
    "#check that column was added correctly\n",
    "\n",
    "df2['adult_cat'].value_counts()"
   ]
  },
  {
   "cell_type": "markdown",
   "id": "a7e423ab",
   "metadata": {},
   "source": [
    "### Seems weird that there are only married parents and single non-parents. Lets check a crosstab to make sure there really are no single parents or married non-parents in this df"
   ]
  },
  {
   "cell_type": "code",
   "execution_count": 15,
   "id": "d3800e22",
   "metadata": {},
   "outputs": [],
   "source": [
    "crosstab2 = pd.crosstab(df2['fam_status'], df2['n_dependants'], dropna = False)"
   ]
  },
  {
   "cell_type": "code",
   "execution_count": 16,
   "id": "6298f96a",
   "metadata": {},
   "outputs": [
    {
     "data": {
      "text/html": [
       "<div>\n",
       "<style scoped>\n",
       "    .dataframe tbody tr th:only-of-type {\n",
       "        vertical-align: middle;\n",
       "    }\n",
       "\n",
       "    .dataframe tbody tr th {\n",
       "        vertical-align: top;\n",
       "    }\n",
       "\n",
       "    .dataframe thead th {\n",
       "        text-align: right;\n",
       "    }\n",
       "</style>\n",
       "<table border=\"1\" class=\"dataframe\">\n",
       "  <thead>\n",
       "    <tr style=\"text-align: right;\">\n",
       "      <th>n_dependants</th>\n",
       "      <th>0</th>\n",
       "      <th>1</th>\n",
       "      <th>2</th>\n",
       "      <th>3</th>\n",
       "    </tr>\n",
       "    <tr>\n",
       "      <th>fam_status</th>\n",
       "      <th></th>\n",
       "      <th></th>\n",
       "      <th></th>\n",
       "      <th></th>\n",
       "    </tr>\n",
       "  </thead>\n",
       "  <tbody>\n",
       "    <tr>\n",
       "      <th>divorced/widowed</th>\n",
       "      <td>2771812</td>\n",
       "      <td>0</td>\n",
       "      <td>0</td>\n",
       "      <td>0</td>\n",
       "    </tr>\n",
       "    <tr>\n",
       "      <th>living with parents and siblings</th>\n",
       "      <td>0</td>\n",
       "      <td>530200</td>\n",
       "      <td>507963</td>\n",
       "      <td>512440</td>\n",
       "    </tr>\n",
       "    <tr>\n",
       "      <th>married</th>\n",
       "      <td>0</td>\n",
       "      <td>7550904</td>\n",
       "      <td>7583180</td>\n",
       "      <td>7622669</td>\n",
       "    </tr>\n",
       "    <tr>\n",
       "      <th>single</th>\n",
       "      <td>5325691</td>\n",
       "      <td>0</td>\n",
       "      <td>0</td>\n",
       "      <td>0</td>\n",
       "    </tr>\n",
       "  </tbody>\n",
       "</table>\n",
       "</div>"
      ],
      "text/plain": [
       "n_dependants                            0        1        2        3\n",
       "fam_status                                                          \n",
       "divorced/widowed                  2771812        0        0        0\n",
       "living with parents and siblings        0   530200   507963   512440\n",
       "married                                 0  7550904  7583180  7622669\n",
       "single                            5325691        0        0        0"
      ]
     },
     "execution_count": 16,
     "metadata": {},
     "output_type": "execute_result"
    }
   ],
   "source": [
    "crosstab2"
   ]
  },
  {
   "cell_type": "markdown",
   "id": "d2d4e6c0",
   "metadata": {},
   "source": [
    "### strange but true I guess. Moving on!"
   ]
  },
  {
   "cell_type": "code",
   "execution_count": 17,
   "id": "0c6500e6",
   "metadata": {},
   "outputs": [],
   "source": [
    "#save seperate data frames for each working category to make graphs easier\n",
    "\n",
    "df_married = df2.loc[(df2['adult_cat'] == 'Married Adult Parent')]"
   ]
  },
  {
   "cell_type": "code",
   "execution_count": 18,
   "id": "7de897ee",
   "metadata": {},
   "outputs": [],
   "source": [
    "df_single = df2.loc[(df2['adult_cat'] == 'Single Adult Non-Parent')]"
   ]
  },
  {
   "cell_type": "markdown",
   "id": "9f6c0f6b",
   "metadata": {},
   "source": [
    "# STEP FIVE: VISUALIZATIONS FOR CATEGORY AGE DISTRIBUTIONS\n",
    "\n"
   ]
  },
  {
   "cell_type": "code",
   "execution_count": 41,
   "id": "baf5d960",
   "metadata": {},
   "outputs": [
    {
     "data": {
      "image/png": "[encoded data removed]",
      "text/plain": [
       "<Figure size 432x288 with 1 Axes>"
      ]
     },
     "metadata": {},
     "output_type": "display_data"
    }
   ],
   "source": [
    "# code to create bar graph to show category distrubutions\n",
    "\n",
    "bar3 = df2['adult_cat'].value_counts().plot.bar()"
   ]
  },
  {
   "cell_type": "markdown",
   "id": "c67e58f9",
   "metadata": {},
   "source": [
    "### Figure 1: more than 4 times the amount of married adult parents as single adult non-parents"
   ]
  },
  {
   "cell_type": "markdown",
   "id": "8f6c86f8",
   "metadata": {},
   "source": [
    "# STEP 5: AGGREGATE MAX, MEAN AND MIN OF ORDER FREQUENCY AND EXPENDITURE"
   ]
  },
  {
   "cell_type": "markdown",
   "id": "cd494b19",
   "metadata": {},
   "source": [
    "spender_category\n",
    "customer_order_frequency"
   ]
  },
  {
   "cell_type": "code",
   "execution_count": 49,
   "id": "adabf986",
   "metadata": {},
   "outputs": [],
   "source": [
    "# first, save a new df only with prices less than 100 (there are giant values of 14k and 99k in this data set)\n",
    "df3 = df2.loc[df2['prices'] < 100]"
   ]
  },
  {
   "cell_type": "code",
   "execution_count": 50,
   "id": "e7116a65",
   "metadata": {},
   "outputs": [
    {
     "data": {
      "text/html": [
       "<div>\n",
       "<style scoped>\n",
       "    .dataframe tbody tr th:only-of-type {\n",
       "        vertical-align: middle;\n",
       "    }\n",
       "\n",
       "    .dataframe tbody tr th {\n",
       "        vertical-align: top;\n",
       "    }\n",
       "\n",
       "    .dataframe thead tr th {\n",
       "        text-align: left;\n",
       "    }\n",
       "\n",
       "    .dataframe thead tr:last-of-type th {\n",
       "        text-align: right;\n",
       "    }\n",
       "</style>\n",
       "<table border=\"1\" class=\"dataframe\">\n",
       "  <thead>\n",
       "    <tr>\n",
       "      <th></th>\n",
       "      <th colspan=\"3\" halign=\"left\">prices</th>\n",
       "    </tr>\n",
       "    <tr>\n",
       "      <th></th>\n",
       "      <th>mean</th>\n",
       "      <th>min</th>\n",
       "      <th>max</th>\n",
       "    </tr>\n",
       "    <tr>\n",
       "      <th>adult_cat</th>\n",
       "      <th></th>\n",
       "      <th></th>\n",
       "      <th></th>\n",
       "    </tr>\n",
       "  </thead>\n",
       "  <tbody>\n",
       "    <tr>\n",
       "      <th>Married Adult Parent</th>\n",
       "      <td>7.790811</td>\n",
       "      <td>1.0</td>\n",
       "      <td>25.0</td>\n",
       "    </tr>\n",
       "    <tr>\n",
       "      <th>Single Adult Non-Parent</th>\n",
       "      <td>7.785782</td>\n",
       "      <td>1.0</td>\n",
       "      <td>25.0</td>\n",
       "    </tr>\n",
       "  </tbody>\n",
       "</table>\n",
       "</div>"
      ],
      "text/plain": [
       "                           prices           \n",
       "                             mean  min   max\n",
       "adult_cat                                   \n",
       "Married Adult Parent     7.790811  1.0  25.0\n",
       "Single Adult Non-Parent  7.785782  1.0  25.0"
      ]
     },
     "execution_count": 50,
     "metadata": {},
     "output_type": "execute_result"
    }
   ],
   "source": [
    "#aggregate min, max and mean for prices and group by adult_cat\n",
    "\n",
    "df3.groupby('adult_cat').agg({'prices': ['mean', 'min', 'max']})"
   ]
  },
  {
   "cell_type": "markdown",
   "id": "ce0ce0bb",
   "metadata": {},
   "source": [
    "### no real difference between the two in prices of items bought.<br><br> Lets compare the composition of both groups in the spender_category:"
   ]
  },
  {
   "cell_type": "code",
   "execution_count": 61,
   "id": "2187025b",
   "metadata": {},
   "outputs": [
    {
     "data": {
      "text/plain": [
       "adult_cat                spender_category\n",
       "Married Adult Parent     Low spender         0.980328\n",
       "                         High spender        0.019672\n",
       "Single Adult Non-Parent  Low spender         0.981491\n",
       "                         High spender        0.018509\n",
       "Name: spender_category, dtype: float64"
      ]
     },
     "execution_count": 61,
     "metadata": {},
     "output_type": "execute_result"
    }
   ],
   "source": [
    "# group by adult_cat with counts of each in spender_category\n",
    "\n",
    "df3.groupby('adult_cat')['spender_category'].value_counts(normalize = True)"
   ]
  },
  {
   "cell_type": "markdown",
   "id": "fa355099",
   "metadata": {},
   "source": [
    "### 1.9% of married adult parents are high spenders, 1.8% of single adult non-parents are high spenders. No signifigant difference here, either.<br><br> Next, customer order frequencies:"
   ]
  },
  {
   "cell_type": "code",
   "execution_count": 58,
   "id": "14f519bd",
   "metadata": {},
   "outputs": [
    {
     "data": {
      "text/html": [
       "<div>\n",
       "<style scoped>\n",
       "    .dataframe tbody tr th:only-of-type {\n",
       "        vertical-align: middle;\n",
       "    }\n",
       "\n",
       "    .dataframe tbody tr th {\n",
       "        vertical-align: top;\n",
       "    }\n",
       "\n",
       "    .dataframe thead tr th {\n",
       "        text-align: left;\n",
       "    }\n",
       "\n",
       "    .dataframe thead tr:last-of-type th {\n",
       "        text-align: right;\n",
       "    }\n",
       "</style>\n",
       "<table border=\"1\" class=\"dataframe\">\n",
       "  <thead>\n",
       "    <tr>\n",
       "      <th></th>\n",
       "      <th colspan=\"3\" halign=\"left\">max_order</th>\n",
       "    </tr>\n",
       "    <tr>\n",
       "      <th></th>\n",
       "      <th>mean</th>\n",
       "      <th>min</th>\n",
       "      <th>max</th>\n",
       "    </tr>\n",
       "    <tr>\n",
       "      <th>adult_cat</th>\n",
       "      <th></th>\n",
       "      <th></th>\n",
       "      <th></th>\n",
       "    </tr>\n",
       "  </thead>\n",
       "  <tbody>\n",
       "    <tr>\n",
       "      <th>Married Adult Parent</th>\n",
       "      <td>32.900155</td>\n",
       "      <td>1</td>\n",
       "      <td>99</td>\n",
       "    </tr>\n",
       "    <tr>\n",
       "      <th>Single Adult Non-Parent</th>\n",
       "      <td>33.367041</td>\n",
       "      <td>3</td>\n",
       "      <td>99</td>\n",
       "    </tr>\n",
       "  </tbody>\n",
       "</table>\n",
       "</div>"
      ],
      "text/plain": [
       "                         max_order        \n",
       "                              mean min max\n",
       "adult_cat                                 \n",
       "Married Adult Parent     32.900155   1  99\n",
       "Single Adult Non-Parent  33.367041   3  99"
      ]
     },
     "execution_count": 58,
     "metadata": {},
     "output_type": "execute_result"
    }
   ],
   "source": [
    "# aggregate max_order and group by adult_cat\n",
    "\n",
    "df3.groupby('adult_cat').agg({'max_order': ['mean', 'min', 'max']})"
   ]
  },
  {
   "cell_type": "markdown",
   "id": "85f2180d",
   "metadata": {},
   "source": [
    "### nothing interesting here, either...except maybe how the minimum order for single non-parent is 3 and married adult is 1.<br><br>Lets compare the composition of both groups in the customer_order_frequency variable:"
   ]
  },
  {
   "cell_type": "code",
   "execution_count": 62,
   "id": "12b71059",
   "metadata": {},
   "outputs": [
    {
     "data": {
      "text/plain": [
       "adult_cat                customer_order_frequency\n",
       "Married Adult Parent     Frequent customer           0.586668\n",
       "                         Regular customer            0.187154\n",
       "                         Non-frequent customer       0.162041\n",
       "                         Brand-new customer          0.064137\n",
       "Single Adult Non-Parent  Frequent customer           0.588771\n",
       "                         Regular customer            0.187351\n",
       "                         Non-frequent customer       0.160107\n",
       "                         Brand-new customer          0.063771\n",
       "Name: customer_order_frequency, dtype: float64"
      ]
     },
     "execution_count": 62,
     "metadata": {},
     "output_type": "execute_result"
    }
   ],
   "source": [
    "# group by adult_cat with counts of each in customer_order_frequency variable\n",
    "\n",
    "\n",
    "\n",
    "df3.groupby('adult_cat')['customer_order_frequency'].value_counts(normalize = True)"
   ]
  },
  {
   "cell_type": "markdown",
   "id": "969b409c",
   "metadata": {},
   "source": [
    "### composition of both groups in the customer_order_frequency category are almost exactly the same. <b> <br> <br>CONCLUSION: There really is no difference between these two groups in how often they buy and the prices of the items they buy."
   ]
  },
  {
   "cell_type": "markdown",
   "id": "c81605a9",
   "metadata": {},
   "source": [
    "# STEP SIX: CUSTOMER PROFILES BY LOCATION AND DEPARTMENT"
   ]
  },
  {
   "cell_type": "code",
   "execution_count": 66,
   "id": "dfb83b1d",
   "metadata": {},
   "outputs": [],
   "source": [
    "# save new DF using only the information we are interested in.\n",
    "\n",
    "df4 = df2[['user_id', 'department_id', 'region', 'adult_cat']]"
   ]
  },
  {
   "cell_type": "code",
   "execution_count": 68,
   "id": "9e9dfe59",
   "metadata": {},
   "outputs": [],
   "source": [
    "df4_region = df4[['adult_cat', 'region']]"
   ]
  },
  {
   "cell_type": "code",
   "execution_count": 75,
   "id": "9d86976f",
   "metadata": {},
   "outputs": [
    {
     "data": {
      "image/png": "[encoded data removed]",
      "text/plain": [
       "<Figure size 432x288 with 1 Axes>"
      ]
     },
     "metadata": {},
     "output_type": "display_data"
    }
   ],
   "source": [
    "bar_married_region = df_married['region'].value_counts().plot.bar()"
   ]
  },
  {
   "cell_type": "code",
   "execution_count": 74,
   "id": "90f0c68c",
   "metadata": {},
   "outputs": [
    {
     "data": {
      "image/png": "[encoded data removed]",
      "text/plain": [
       "<Figure size 432x288 with 1 Axes>"
      ]
     },
     "metadata": {},
     "output_type": "display_data"
    }
   ],
   "source": [
    "bar_single_region = df_single['region'].value_counts().plot.bar()"
   ]
  },
  {
   "cell_type": "markdown",
   "id": "450e39cc",
   "metadata": {},
   "source": [
    "### regional distribution of both categories are similar"
   ]
  },
  {
   "cell_type": "code",
   "execution_count": 76,
   "id": "037829e4",
   "metadata": {},
   "outputs": [
    {
     "data": {
      "image/png": "[encoded data removed]",
      "text/plain": [
       "<Figure size 432x288 with 1 Axes>"
      ]
     },
     "metadata": {},
     "output_type": "display_data"
    }
   ],
   "source": [
    "bar_married_department = df_married['department_id'].value_counts().plot.bar()"
   ]
  },
  {
   "cell_type": "code",
   "execution_count": 85,
   "id": "ff58b4d7",
   "metadata": {},
   "outputs": [
    {
     "data": {
      "image/png": "[encoded data removed]",
      "text/plain": [
       "<Figure size 432x288 with 1 Axes>"
      ]
     },
     "metadata": {},
     "output_type": "display_data"
    }
   ],
   "source": [
    "bar_single_department = df_single['department_id'].value_counts().plot.bar()"
   ]
  },
  {
   "cell_type": "markdown",
   "id": "dd43f7bd",
   "metadata": {},
   "source": [
    "### departments these categories shop in are distributed exactly the same. Top 5 departments: <br>4 <br> 16 <br> 19 <br> 7 <br> 1"
   ]
  },
  {
   "cell_type": "code",
   "execution_count": 84,
   "id": "56700d48",
   "metadata": {},
   "outputs": [],
   "source": [
    "bar_married_department.figure.savefig(os.path.join(path, 'Data', 'bar_married_department.png'))"
   ]
  },
  {
   "cell_type": "markdown",
   "id": "3302d465",
   "metadata": {},
   "source": [
    "# EXTRA WORK REQUIRED BY EXCEL SHEET"
   ]
  },
  {
   "cell_type": "markdown",
   "id": "1bd2fda7",
   "metadata": {},
   "source": [
    "### create new simpler price categories"
   ]
  },
  {
   "cell_type": "code",
   "execution_count": 90,
   "id": "2c35f1bf",
   "metadata": {},
   "outputs": [],
   "source": [
    "df2.loc[(df2['prices'] > 20),'price_category'] = 'High Price'\n",
    "df2.loc[(df2['prices'] <= 20) & (df2['prices'] > 15),'price_category'] = 'Mid-high Price'\n",
    "df2.loc[(df2['prices'] <= 15) & (df2['prices'] > 10),'price_category'] = 'Mid Price'\n",
    "df2.loc[(df2['prices'] <= 10) & (df2['prices'] > 5),'price_category'] = 'Mid-low Price'\n",
    "df2.loc[(df2['prices'] <= 5),'price_category'] = 'Low Price'"
   ]
  },
  {
   "cell_type": "code",
   "execution_count": 91,
   "id": "9f0e8684",
   "metadata": {},
   "outputs": [
    {
     "data": {
      "text/plain": [
       "Mid-low Price     11762458\n",
       "Low Price         10126321\n",
       "Mid Price         10098402\n",
       "High Price          232348\n",
       "Mid-high Price      185330\n",
       "Name: price_category, dtype: int64"
      ]
     },
     "execution_count": 91,
     "metadata": {},
     "output_type": "execute_result"
    }
   ],
   "source": [
    "df2['price_category'].value_counts()"
   ]
  },
  {
   "cell_type": "markdown",
   "id": "04fadf01",
   "metadata": {},
   "source": [
    "### graph for distribution of price categories"
   ]
  },
  {
   "cell_type": "code",
   "execution_count": 101,
   "id": "8243f9a9",
   "metadata": {},
   "outputs": [],
   "source": [
    "# new data frame with only product id and price category\n",
    "\n",
    "df_product_price = df2[['product_id', 'price_category']]"
   ]
  },
  {
   "cell_type": "code",
   "execution_count": 102,
   "id": "45c4d759",
   "metadata": {},
   "outputs": [],
   "source": [
    "#drop duplicate ids in new data frame\n",
    "df_product_price = df_product_price.drop_duplicates(subset=\"product_id\")"
   ]
  },
  {
   "cell_type": "code",
   "execution_count": 104,
   "id": "a0f068a2",
   "metadata": {},
   "outputs": [
    {
     "data": {
      "image/png": "[encoded data removed]",
      "text/plain": [
       "<Figure size 432x288 with 1 Axes>"
      ]
     },
     "metadata": {},
     "output_type": "display_data"
    }
   ],
   "source": [
    "bar_price_categories = df_product_price['price_category'].value_counts().plot.bar()"
   ]
  },
  {
   "cell_type": "markdown",
   "id": "1f0e1d9f",
   "metadata": {},
   "source": [
    "### graphs for distribution of customers based on loyalty flag"
   ]
  },
  {
   "cell_type": "code",
   "execution_count": 110,
   "id": "9c15f095",
   "metadata": {},
   "outputs": [],
   "source": [
    "#new data frame for loyalty flag and user id\n",
    "\n",
    "df_loyalty = df2[['user_id', 'loyalty_flag']]"
   ]
  },
  {
   "cell_type": "code",
   "execution_count": 111,
   "id": "e972ad89",
   "metadata": {},
   "outputs": [],
   "source": [
    "#drop duplicate user ids\n",
    "\n",
    "df_loyalty = df_loyalty.drop_duplicates(subset=\"user_id\")"
   ]
  },
  {
   "cell_type": "code",
   "execution_count": 112,
   "id": "ce4adba5",
   "metadata": {},
   "outputs": [
    {
     "data": {
      "image/png": "[encoded data removed]",
      "text/plain": [
       "<Figure size 432x288 with 1 Axes>"
      ]
     },
     "metadata": {},
     "output_type": "display_data"
    }
   ],
   "source": [
    "#code for graph\n",
    "\n",
    "loyalty_bar = df_loyalty['loyalty_flag'].value_counts().plot.bar()"
   ]
  },
  {
   "cell_type": "code",
   "execution_count": 113,
   "id": "03683043",
   "metadata": {},
   "outputs": [
    {
     "data": {
      "image/png": "[encoded data removed]",
      "text/plain": [
       "<Figure size 432x288 with 1 Axes>"
      ]
     },
     "metadata": {},
     "output_type": "display_data"
    }
   ],
   "source": [
    "#code for graph for order frequencies of each loyalty category\n",
    "\n",
    "loyalty_bar_2 = df2['loyalty_flag'].value_counts().plot.bar()"
   ]
  },
  {
   "cell_type": "markdown",
   "id": "f6ec4c11",
   "metadata": {},
   "source": [
    "### graph for order frequency by region"
   ]
  },
  {
   "cell_type": "code",
   "execution_count": 114,
   "id": "8b1608a5",
   "metadata": {},
   "outputs": [],
   "source": [
    "# new DF with just price category and region\n",
    "\n",
    "df_price_region = df2[['price_category', 'region']]"
   ]
  },
  {
   "cell_type": "code",
   "execution_count": 115,
   "id": "dea4c8e0",
   "metadata": {},
   "outputs": [
    {
     "data": {
      "image/png": "[encoded data removed]",
      "text/plain": [
       "<Figure size 432x288 with 1 Axes>"
      ]
     },
     "metadata": {},
     "output_type": "display_data"
    }
   ],
   "source": [
    "bar_price_region = df_price_region['region'].value_counts().plot.bar()"
   ]
  },
  {
   "cell_type": "markdown",
   "id": "72c494e0",
   "metadata": {},
   "source": [
    "### crosstab to show price categories by region"
   ]
  },
  {
   "cell_type": "code",
   "execution_count": 116,
   "id": "19304ac3",
   "metadata": {},
   "outputs": [],
   "source": [
    "crosstab3 = pd.crosstab(df_price_region['region'], df_price_region['price_category'], dropna = False)"
   ]
  },
  {
   "cell_type": "code",
   "execution_count": 117,
   "id": "3c58e64f",
   "metadata": {},
   "outputs": [
    {
     "data": {
      "text/html": [
       "<div>\n",
       "<style scoped>\n",
       "    .dataframe tbody tr th:only-of-type {\n",
       "        vertical-align: middle;\n",
       "    }\n",
       "\n",
       "    .dataframe tbody tr th {\n",
       "        vertical-align: top;\n",
       "    }\n",
       "\n",
       "    .dataframe thead th {\n",
       "        text-align: right;\n",
       "    }\n",
       "</style>\n",
       "<table border=\"1\" class=\"dataframe\">\n",
       "  <thead>\n",
       "    <tr style=\"text-align: right;\">\n",
       "      <th>price_category</th>\n",
       "      <th>High Price</th>\n",
       "      <th>Low Price</th>\n",
       "      <th>Mid Price</th>\n",
       "      <th>Mid-high Price</th>\n",
       "      <th>Mid-low Price</th>\n",
       "    </tr>\n",
       "    <tr>\n",
       "      <th>region</th>\n",
       "      <th></th>\n",
       "      <th></th>\n",
       "      <th></th>\n",
       "      <th></th>\n",
       "      <th></th>\n",
       "    </tr>\n",
       "  </thead>\n",
       "  <tbody>\n",
       "    <tr>\n",
       "      <th>Midwest</th>\n",
       "      <td>53733</td>\n",
       "      <td>2372304</td>\n",
       "      <td>2369122</td>\n",
       "      <td>44185</td>\n",
       "      <td>2757981</td>\n",
       "    </tr>\n",
       "    <tr>\n",
       "      <th>Northeast</th>\n",
       "      <td>40842</td>\n",
       "      <td>1792943</td>\n",
       "      <td>1779221</td>\n",
       "      <td>32360</td>\n",
       "      <td>2077370</td>\n",
       "    </tr>\n",
       "    <tr>\n",
       "      <th>South</th>\n",
       "      <td>77935</td>\n",
       "      <td>3368338</td>\n",
       "      <td>3367435</td>\n",
       "      <td>61455</td>\n",
       "      <td>3916722</td>\n",
       "    </tr>\n",
       "    <tr>\n",
       "      <th>West</th>\n",
       "      <td>59838</td>\n",
       "      <td>2592736</td>\n",
       "      <td>2582624</td>\n",
       "      <td>47330</td>\n",
       "      <td>3010385</td>\n",
       "    </tr>\n",
       "  </tbody>\n",
       "</table>\n",
       "</div>"
      ],
      "text/plain": [
       "price_category  High Price  Low Price  Mid Price  Mid-high Price  \\\n",
       "region                                                             \n",
       "Midwest              53733    2372304    2369122           44185   \n",
       "Northeast            40842    1792943    1779221           32360   \n",
       "South                77935    3368338    3367435           61455   \n",
       "West                 59838    2592736    2582624           47330   \n",
       "\n",
       "price_category  Mid-low Price  \n",
       "region                         \n",
       "Midwest               2757981  \n",
       "Northeast             2077370  \n",
       "South                 3916722  \n",
       "West                  3010385  "
      ]
     },
     "execution_count": 117,
     "metadata": {},
     "output_type": "execute_result"
    }
   ],
   "source": [
    "crosstab3"
   ]
  },
  {
   "cell_type": "code",
   "execution_count": null,
   "id": "6bc088dc",
   "metadata": {},
   "outputs": [],
   "source": []
  }
 ],
 "metadata": {
  "kernelspec": {
   "display_name": "Python 3 (ipykernel)",
   "language": "python",
   "name": "python3"
  },
  "language_info": {
   "codemirror_mode": {
    "name": "ipython",
    "version": 3
   },
   "file_extension": ".py",
   "mimetype": "text/x-python",
   "name": "python",
   "nbconvert_exporter": "python",
   "pygments_lexer": "ipython3",
   "version": "3.9.7"
  }
 },
 "nbformat": 4,
 "nbformat_minor": 5
}
